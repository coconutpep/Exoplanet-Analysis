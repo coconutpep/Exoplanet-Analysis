{
 "cells": [
  {
   "cell_type": "code",
   "execution_count": 1,
   "metadata": {},
   "outputs": [],
   "source": [
    "#Import Dependencies\n",
    "import pandas as pd \n",
    "from sklearn.model_selection import train_test_split\n",
    "from sklearn.preprocessing import StandardScaler\n",
    "from tensorflow.keras.utils import to_categorical\n",
    "from tensorflow.keras.models import Sequential\n",
    "from tensorflow.keras.layers import Dense\n",
    "from sklearn.preprocessing import LabelEncoder"
   ]
  },
  {
   "cell_type": "code",
   "execution_count": 2,
   "metadata": {},
   "outputs": [
    {
     "output_type": "execute_result",
     "data": {
      "text/plain": "  koi_disposition  koi_fpflag_nt  koi_fpflag_ss  koi_fpflag_co  koi_fpflag_ec  \\\n0       CONFIRMED              0              0              0              0   \n1       CONFIRMED              0              0              0              0   \n2  FALSE POSITIVE              0              1              0              0   \n3  FALSE POSITIVE              0              1              0              0   \n4       CONFIRMED              0              0              0              0   \n\n   koi_period  koi_time0bk  koi_impact  koi_duration  koi_depth  ...  koi_teq  \\\n0    9.488036   170.538750       0.146       2.95750      615.8  ...    793.0   \n1   54.418383   162.513840       0.586       4.50700      874.8  ...    443.0   \n2   19.899140   175.850252       0.969       1.78220    10829.0  ...    638.0   \n3    1.736952   170.307565       1.276       2.40641     8079.2  ...   1395.0   \n4    2.525592   171.595550       0.701       1.65450      603.3  ...   1406.0   \n\n   koi_insol  koi_model_snr  koi_tce_plnt_num  koi_steff  koi_slogg  koi_srad  \\\n0      93.59           35.8               1.0     5455.0      4.467     0.927   \n1       9.11           25.8               2.0     5455.0      4.467     0.927   \n2      39.30           76.3               1.0     5853.0      4.544     0.868   \n3     891.96          505.6               1.0     5805.0      4.564     0.791   \n4     926.16           40.9               1.0     6031.0      4.438     1.046   \n\n          ra        dec  koi_kepmag  \n0  291.93423  48.141651      15.347  \n1  291.93423  48.141651      15.347  \n2  297.00482  48.134129      15.436  \n3  285.53461  48.285210      15.597  \n4  288.75488  48.226200      15.509  \n\n[5 rows x 21 columns]",
      "text/html": "<div>\n<style scoped>\n    .dataframe tbody tr th:only-of-type {\n        vertical-align: middle;\n    }\n\n    .dataframe tbody tr th {\n        vertical-align: top;\n    }\n\n    .dataframe thead th {\n        text-align: right;\n    }\n</style>\n<table border=\"1\" class=\"dataframe\">\n  <thead>\n    <tr style=\"text-align: right;\">\n      <th></th>\n      <th>koi_disposition</th>\n      <th>koi_fpflag_nt</th>\n      <th>koi_fpflag_ss</th>\n      <th>koi_fpflag_co</th>\n      <th>koi_fpflag_ec</th>\n      <th>koi_period</th>\n      <th>koi_time0bk</th>\n      <th>koi_impact</th>\n      <th>koi_duration</th>\n      <th>koi_depth</th>\n      <th>...</th>\n      <th>koi_teq</th>\n      <th>koi_insol</th>\n      <th>koi_model_snr</th>\n      <th>koi_tce_plnt_num</th>\n      <th>koi_steff</th>\n      <th>koi_slogg</th>\n      <th>koi_srad</th>\n      <th>ra</th>\n      <th>dec</th>\n      <th>koi_kepmag</th>\n    </tr>\n  </thead>\n  <tbody>\n    <tr>\n      <th>0</th>\n      <td>CONFIRMED</td>\n      <td>0</td>\n      <td>0</td>\n      <td>0</td>\n      <td>0</td>\n      <td>9.488036</td>\n      <td>170.538750</td>\n      <td>0.146</td>\n      <td>2.95750</td>\n      <td>615.8</td>\n      <td>...</td>\n      <td>793.0</td>\n      <td>93.59</td>\n      <td>35.8</td>\n      <td>1.0</td>\n      <td>5455.0</td>\n      <td>4.467</td>\n      <td>0.927</td>\n      <td>291.93423</td>\n      <td>48.141651</td>\n      <td>15.347</td>\n    </tr>\n    <tr>\n      <th>1</th>\n      <td>CONFIRMED</td>\n      <td>0</td>\n      <td>0</td>\n      <td>0</td>\n      <td>0</td>\n      <td>54.418383</td>\n      <td>162.513840</td>\n      <td>0.586</td>\n      <td>4.50700</td>\n      <td>874.8</td>\n      <td>...</td>\n      <td>443.0</td>\n      <td>9.11</td>\n      <td>25.8</td>\n      <td>2.0</td>\n      <td>5455.0</td>\n      <td>4.467</td>\n      <td>0.927</td>\n      <td>291.93423</td>\n      <td>48.141651</td>\n      <td>15.347</td>\n    </tr>\n    <tr>\n      <th>2</th>\n      <td>FALSE POSITIVE</td>\n      <td>0</td>\n      <td>1</td>\n      <td>0</td>\n      <td>0</td>\n      <td>19.899140</td>\n      <td>175.850252</td>\n      <td>0.969</td>\n      <td>1.78220</td>\n      <td>10829.0</td>\n      <td>...</td>\n      <td>638.0</td>\n      <td>39.30</td>\n      <td>76.3</td>\n      <td>1.0</td>\n      <td>5853.0</td>\n      <td>4.544</td>\n      <td>0.868</td>\n      <td>297.00482</td>\n      <td>48.134129</td>\n      <td>15.436</td>\n    </tr>\n    <tr>\n      <th>3</th>\n      <td>FALSE POSITIVE</td>\n      <td>0</td>\n      <td>1</td>\n      <td>0</td>\n      <td>0</td>\n      <td>1.736952</td>\n      <td>170.307565</td>\n      <td>1.276</td>\n      <td>2.40641</td>\n      <td>8079.2</td>\n      <td>...</td>\n      <td>1395.0</td>\n      <td>891.96</td>\n      <td>505.6</td>\n      <td>1.0</td>\n      <td>5805.0</td>\n      <td>4.564</td>\n      <td>0.791</td>\n      <td>285.53461</td>\n      <td>48.285210</td>\n      <td>15.597</td>\n    </tr>\n    <tr>\n      <th>4</th>\n      <td>CONFIRMED</td>\n      <td>0</td>\n      <td>0</td>\n      <td>0</td>\n      <td>0</td>\n      <td>2.525592</td>\n      <td>171.595550</td>\n      <td>0.701</td>\n      <td>1.65450</td>\n      <td>603.3</td>\n      <td>...</td>\n      <td>1406.0</td>\n      <td>926.16</td>\n      <td>40.9</td>\n      <td>1.0</td>\n      <td>6031.0</td>\n      <td>4.438</td>\n      <td>1.046</td>\n      <td>288.75488</td>\n      <td>48.226200</td>\n      <td>15.509</td>\n    </tr>\n  </tbody>\n</table>\n<p>5 rows × 21 columns</p>\n</div>"
     },
     "metadata": {},
     "execution_count": 2
    }
   ],
   "source": [
    "#Read in data\n",
    "exo = pd.read_csv('../data/clean_data.csv')\n",
    "#Drop vestial indes\n",
    "exo.drop('Unnamed: 0', axis=1, inplace=True)\n",
    "exo.head()"
   ]
  },
  {
   "cell_type": "code",
   "execution_count": 3,
   "metadata": {},
   "outputs": [],
   "source": [
    "#Set data and target\n",
    "data = exo.drop('koi_disposition', axis=1)\n",
    "feature_names = data.columns\n",
    "target = exo['koi_disposition']\n",
    "target_names = ['CONFIRMED', 'FALSE POSITIVE', 'CANIDATE']"
   ]
  },
  {
   "cell_type": "code",
   "execution_count": 4,
   "metadata": {},
   "outputs": [],
   "source": [
    "#Categorize target\n",
    "label_encoder = LabelEncoder()\n",
    "label_encoder.fit(target)\n",
    "encoded_target = label_encoder.transform(target)"
   ]
  },
  {
   "cell_type": "code",
   "execution_count": 5,
   "metadata": {},
   "outputs": [],
   "source": [
    "#Split data into training and testing sets\n",
    "X_train, X_test, y_train, y_test = train_test_split(data, encoded_target, random_state=1)"
   ]
  },
  {
   "cell_type": "code",
   "execution_count": 6,
   "metadata": {},
   "outputs": [],
   "source": [
    "#Set training and testing categories\n",
    "y_train_categorical = to_categorical(y_train)\n",
    "y_test_categorical = to_categorical(y_test)"
   ]
  },
  {
   "cell_type": "code",
   "execution_count": 7,
   "metadata": {},
   "outputs": [],
   "source": [
    "#Scale data\n",
    "X_scaler = StandardScaler().fit(X_train)\n",
    "X_train_scaled = X_scaler.transform(X_train)\n",
    "X_test_scaled = X_scaler.transform(X_test)"
   ]
  },
  {
   "cell_type": "code",
   "execution_count": 8,
   "metadata": {
    "tags": []
   },
   "outputs": [
    {
     "output_type": "stream",
     "name": "stdout",
     "text": "Model: \"sequential\"\n_________________________________________________________________\nLayer (type)                 Output Shape              Param #   \n=================================================================\ndense (Dense)                (None, 100)               2100      \n_________________________________________________________________\ndense_1 (Dense)              (None, 100)               10100     \n_________________________________________________________________\ndense_2 (Dense)              (None, 100)               10100     \n_________________________________________________________________\ndense_3 (Dense)              (None, 3)                 303       \n=================================================================\nTotal params: 22,603\nTrainable params: 22,603\nNon-trainable params: 0\n_________________________________________________________________\n"
    }
   ],
   "source": [
    "#Set model\n",
    "model = Sequential()\n",
    "#Add layers to model\n",
    "model.add(Dense(units=100, activation='relu', input_dim=20))\n",
    "model.add(Dense(units=100, activation='relu'))\n",
    "model.add(Dense(units=100, activation='relu'))\n",
    "model.add(Dense(units=3, activation='softmax'))\n",
    "model.summary()"
   ]
  },
  {
   "cell_type": "code",
   "execution_count": 9,
   "metadata": {},
   "outputs": [],
   "source": [
    "#Compile the model\n",
    "model.compile(optimizer='adam',\n",
    "              loss='categorical_crossentropy',\n",
    "              metrics=['accuracy'])"
   ]
  },
  {
   "cell_type": "code",
   "execution_count": 10,
   "metadata": {
    "tags": []
   },
   "outputs": [
    {
     "output_type": "stream",
     "name": "stdout",
     "text": "Train on 6708 samples\nEpoch 1/100\n6708/6708 - 1s - loss: 0.4685 - accuracy: 0.7689\nEpoch 2/100\n6708/6708 - 1s - loss: 0.3533 - accuracy: 0.8201\nEpoch 3/100\n6708/6708 - 0s - loss: 0.3387 - accuracy: 0.8290\nEpoch 4/100\n6708/6708 - 0s - loss: 0.3251 - accuracy: 0.8372\nEpoch 5/100\n6708/6708 - 0s - loss: 0.3212 - accuracy: 0.8377\nEpoch 6/100\n6708/6708 - 0s - loss: 0.3159 - accuracy: 0.8433\nEpoch 7/100\n6708/6708 - 0s - loss: 0.3042 - accuracy: 0.8475\nEpoch 8/100\n6708/6708 - 0s - loss: 0.2939 - accuracy: 0.8518\nEpoch 9/100\n6708/6708 - 0s - loss: 0.2936 - accuracy: 0.8521\nEpoch 10/100\n6708/6708 - 0s - loss: 0.2865 - accuracy: 0.8561\nEpoch 11/100\n6708/6708 - 0s - loss: 0.2831 - accuracy: 0.8566\nEpoch 12/100\n6708/6708 - 0s - loss: 0.2817 - accuracy: 0.8615\nEpoch 13/100\n6708/6708 - 0s - loss: 0.2749 - accuracy: 0.8615\nEpoch 14/100\n6708/6708 - 0s - loss: 0.2704 - accuracy: 0.8649\nEpoch 15/100\n6708/6708 - 0s - loss: 0.2666 - accuracy: 0.8660\nEpoch 16/100\n6708/6708 - 0s - loss: 0.2654 - accuracy: 0.8636\nEpoch 17/100\n6708/6708 - 0s - loss: 0.2600 - accuracy: 0.8652\nEpoch 18/100\n6708/6708 - 0s - loss: 0.2534 - accuracy: 0.8745\nEpoch 19/100\n6708/6708 - 0s - loss: 0.2526 - accuracy: 0.8736\nEpoch 20/100\n6708/6708 - 0s - loss: 0.2477 - accuracy: 0.8746\nEpoch 21/100\n6708/6708 - 0s - loss: 0.2415 - accuracy: 0.8785\nEpoch 22/100\n6708/6708 - 0s - loss: 0.2411 - accuracy: 0.8792\nEpoch 23/100\n6708/6708 - 0s - loss: 0.2363 - accuracy: 0.8792\nEpoch 24/100\n6708/6708 - 0s - loss: 0.2345 - accuracy: 0.8845\nEpoch 25/100\n6708/6708 - 0s - loss: 0.2415 - accuracy: 0.8831\nEpoch 26/100\n6708/6708 - 0s - loss: 0.2345 - accuracy: 0.8915\nEpoch 27/100\n6708/6708 - 1s - loss: 0.2218 - accuracy: 0.8906\nEpoch 28/100\n6708/6708 - 0s - loss: 0.2184 - accuracy: 0.8943\nEpoch 29/100\n6708/6708 - 1s - loss: 0.2152 - accuracy: 0.8931\nEpoch 30/100\n6708/6708 - 0s - loss: 0.2113 - accuracy: 0.8974\nEpoch 31/100\n6708/6708 - 0s - loss: 0.2104 - accuracy: 0.8970\nEpoch 32/100\n6708/6708 - 0s - loss: 0.2062 - accuracy: 0.8986\nEpoch 33/100\n6708/6708 - 0s - loss: 0.2044 - accuracy: 0.9035\nEpoch 34/100\n6708/6708 - 0s - loss: 0.1946 - accuracy: 0.9034\nEpoch 35/100\n6708/6708 - 0s - loss: 0.1946 - accuracy: 0.9073\nEpoch 36/100\n6708/6708 - 0s - loss: 0.1906 - accuracy: 0.9074\nEpoch 37/100\n6708/6708 - 1s - loss: 0.1824 - accuracy: 0.9180\nEpoch 38/100\n6708/6708 - 1s - loss: 0.1805 - accuracy: 0.9126\nEpoch 39/100\n6708/6708 - 1s - loss: 0.1794 - accuracy: 0.9167\nEpoch 40/100\n6708/6708 - 1s - loss: 0.1780 - accuracy: 0.9126\nEpoch 41/100\n6708/6708 - 1s - loss: 0.1720 - accuracy: 0.9183\nEpoch 42/100\n6708/6708 - 1s - loss: 0.1639 - accuracy: 0.9267\nEpoch 43/100\n6708/6708 - 1s - loss: 0.1706 - accuracy: 0.9214\nEpoch 44/100\n6708/6708 - 1s - loss: 0.1612 - accuracy: 0.9270\nEpoch 45/100\n6708/6708 - 1s - loss: 0.1595 - accuracy: 0.9237\nEpoch 46/100\n6708/6708 - 1s - loss: 0.1582 - accuracy: 0.9299\nEpoch 47/100\n6708/6708 - 1s - loss: 0.1875 - accuracy: 0.9240\nEpoch 48/100\n6708/6708 - 0s - loss: 0.1479 - accuracy: 0.9329\nEpoch 49/100\n6708/6708 - 0s - loss: 0.1504 - accuracy: 0.9335\nEpoch 50/100\n6708/6708 - 0s - loss: 0.1465 - accuracy: 0.9311\nEpoch 51/100\n6708/6708 - 0s - loss: 0.1419 - accuracy: 0.9377\nEpoch 52/100\n6708/6708 - 0s - loss: 0.1342 - accuracy: 0.9399\nEpoch 53/100\n6708/6708 - 0s - loss: 0.1320 - accuracy: 0.9428\nEpoch 54/100\n6708/6708 - 1s - loss: 0.1331 - accuracy: 0.9399\nEpoch 55/100\n6708/6708 - 1s - loss: 0.1261 - accuracy: 0.9428\nEpoch 56/100\n6708/6708 - 0s - loss: 0.1254 - accuracy: 0.9420\nEpoch 57/100\n6708/6708 - 1s - loss: 0.1265 - accuracy: 0.9432\nEpoch 58/100\n6708/6708 - 1s - loss: 0.1163 - accuracy: 0.9498\nEpoch 59/100\n6708/6708 - 1s - loss: 0.1275 - accuracy: 0.9463\nEpoch 60/100\n6708/6708 - 0s - loss: 0.1677 - accuracy: 0.9445\nEpoch 61/100\n6708/6708 - 0s - loss: 0.1269 - accuracy: 0.9504\nEpoch 62/100\n6708/6708 - 0s - loss: 0.1027 - accuracy: 0.9581\nEpoch 63/100\n6708/6708 - 0s - loss: 0.1004 - accuracy: 0.9557\nEpoch 64/100\n6708/6708 - 0s - loss: 0.1027 - accuracy: 0.9554\nEpoch 65/100\n6708/6708 - 0s - loss: 0.1081 - accuracy: 0.9550\nEpoch 66/100\n6708/6708 - 1s - loss: 0.1081 - accuracy: 0.9551\nEpoch 67/100\n6708/6708 - 1s - loss: 0.0953 - accuracy: 0.9592\nEpoch 68/100\n6708/6708 - 1s - loss: 0.1020 - accuracy: 0.9575\nEpoch 69/100\n6708/6708 - 1s - loss: 0.1048 - accuracy: 0.9577\nEpoch 70/100\n6708/6708 - 1s - loss: 0.0888 - accuracy: 0.9621\nEpoch 71/100\n6708/6708 - 1s - loss: 0.0947 - accuracy: 0.9611\nEpoch 72/100\n6708/6708 - 1s - loss: 0.0853 - accuracy: 0.9638\nEpoch 73/100\n6708/6708 - 0s - loss: 0.0923 - accuracy: 0.9612\nEpoch 74/100\n6708/6708 - 0s - loss: 0.0770 - accuracy: 0.9688\nEpoch 75/100\n6708/6708 - 1s - loss: 0.0921 - accuracy: 0.9624\nEpoch 76/100\n6708/6708 - 0s - loss: 0.0799 - accuracy: 0.9656\nEpoch 77/100\n6708/6708 - 0s - loss: 0.0780 - accuracy: 0.9677\nEpoch 78/100\n6708/6708 - 0s - loss: 0.0702 - accuracy: 0.9705\nEpoch 79/100\n6708/6708 - 0s - loss: 0.0791 - accuracy: 0.9711\nEpoch 80/100\n6708/6708 - 0s - loss: 0.0715 - accuracy: 0.9720\nEpoch 81/100\n6708/6708 - 0s - loss: 0.0794 - accuracy: 0.9691\nEpoch 82/100\n6708/6708 - 0s - loss: 0.0743 - accuracy: 0.9700\nEpoch 83/100\n6708/6708 - 0s - loss: 0.0678 - accuracy: 0.9729\nEpoch 84/100\n6708/6708 - 0s - loss: 0.1090 - accuracy: 0.9675\nEpoch 85/100\n6708/6708 - 0s - loss: 0.1108 - accuracy: 0.9572\nEpoch 86/100\n6708/6708 - 0s - loss: 0.0769 - accuracy: 0.9727\nEpoch 87/100\n6708/6708 - 1s - loss: 0.0539 - accuracy: 0.9782\nEpoch 88/100\n6708/6708 - 1s - loss: 0.0543 - accuracy: 0.9784\nEpoch 89/100\n6708/6708 - 1s - loss: 0.0505 - accuracy: 0.9815\nEpoch 90/100\n6708/6708 - 1s - loss: 0.0540 - accuracy: 0.9784\nEpoch 91/100\n6708/6708 - 0s - loss: 0.0472 - accuracy: 0.9833\nEpoch 92/100\n6708/6708 - 1s - loss: 0.0508 - accuracy: 0.9815\nEpoch 93/100\n6708/6708 - 0s - loss: 0.0595 - accuracy: 0.9772\nEpoch 94/100\n6708/6708 - 0s - loss: 0.0767 - accuracy: 0.9720\nEpoch 95/100\n6708/6708 - 0s - loss: 0.0770 - accuracy: 0.9694\nEpoch 96/100\n6708/6708 - 0s - loss: 0.0577 - accuracy: 0.9760\nEpoch 97/100\n6708/6708 - 0s - loss: 0.0625 - accuracy: 0.9756\nEpoch 98/100\n6708/6708 - 0s - loss: 0.0448 - accuracy: 0.9839\nEpoch 99/100\n6708/6708 - 0s - loss: 0.0536 - accuracy: 0.9788\nEpoch 100/100\n6708/6708 - 0s - loss: 0.0385 - accuracy: 0.9885\n"
    },
    {
     "output_type": "execute_result",
     "data": {
      "text/plain": "<tensorflow.python.keras.callbacks.History at 0x1c803d50c18>"
     },
     "metadata": {},
     "execution_count": 10
    }
   ],
   "source": [
    "#Fit the model\n",
    "model.fit(\n",
    "    X_train_scaled,\n",
    "    y_train_categorical,\n",
    "    epochs=100,\n",
    "    shuffle=True,\n",
    "    verbose=2\n",
    ")"
   ]
  },
  {
   "cell_type": "code",
   "execution_count": 11,
   "metadata": {
    "tags": []
   },
   "outputs": [
    {
     "output_type": "stream",
     "name": "stdout",
     "text": "2237/2237 - 0s - loss: 1.1601 - accuracy: 0.8373\nDNN test 1 - Loss: 1.160099078141316, Accuracy: 0.8372820615768433\n2237/2237 - 0s - loss: 0.3036 - accuracy: 0.9517\nDNN test 2 - Loss: 0.3036477334087962, Accuracy: 0.9517210721969604\n2237/2237 - 0s - loss: 0.2573 - accuracy: 0.9531\nDNN test 3 - Loss: 0.2572804035474852, Accuracy: 0.953062117099762\n2237/2237 - 0s - loss: 0.2405 - accuracy: 0.9549\nDNN test 4 - Loss: 0.24049757216184012, Accuracy: 0.9548502564430237\n2237/2237 - 0s - loss: 0.2312 - accuracy: 0.9504\nDNN test 5 - Loss: 0.2311934536388731, Accuracy: 0.9503799676895142\n2237/2237 - 0s - loss: 0.2488 - accuracy: 0.9508\nDNN test 6 - Loss: 0.24884957483951728, Accuracy: 0.9508270025253296\n2237/2237 - 0s - loss: 0.4583 - accuracy: 0.9522\nDNN test 7 - Loss: 0.45832808475623343, Accuracy: 0.9521681070327759\n2237/2237 - 0s - loss: 0.2155 - accuracy: 0.9616\nDNN test 8 - Loss: 0.21548716151386593, Accuracy: 0.9615556597709656\n2237/2237 - 0s - loss: 0.4283 - accuracy: 0.9481\nDNN test 9 - Loss: 0.42829633050189786, Accuracy: 0.9481448531150818\n2237/2237 - 0s - loss: 0.2142 - accuracy: 0.9562\nDNN test 10 - Loss: 0.2142468966780148, Accuracy: 0.9561913013458252\n2237/2237 - 0s - loss: 0.3148 - accuracy: 0.9526\nDNN test 11 - Loss: 0.31483476158026663, Accuracy: 0.9526150822639465\n2237/2237 - 0s - loss: 0.2707 - accuracy: 0.9535\nDNN test 12 - Loss: 0.27071261912864075, Accuracy: 0.9535091519355774\n2237/2237 - 0s - loss: 0.2426 - accuracy: 0.9544\nDNN test 13 - Loss: 0.24264595494053967, Accuracy: 0.9544032216072083\n2237/2237 - 0s - loss: 0.2623 - accuracy: 0.9544\nDNN test 14 - Loss: 0.2623042506654986, Accuracy: 0.9544032216072083\n2237/2237 - 0s - loss: 0.2721 - accuracy: 0.9544\nDNN test 15 - Loss: 0.2721477402145169, Accuracy: 0.9544032216072083\n2237/2237 - 0s - loss: 0.2614 - accuracy: 0.9499\nDNN test 16 - Loss: 0.261402310286455, Accuracy: 0.9499329328536987\n2237/2237 - 0s - loss: 0.2586 - accuracy: 0.9593\nDNN test 17 - Loss: 0.2585926029862812, Accuracy: 0.9593205451965332\n2237/2237 - 0s - loss: 0.2062 - accuracy: 0.9593\nDNN test 18 - Loss: 0.20619994601435462, Accuracy: 0.9593205451965332\n2237/2237 - 0s - loss: 0.2646 - accuracy: 0.9490\nDNN test 19 - Loss: 0.2645713439045551, Accuracy: 0.9490388631820679\n2237/2237 - 0s - loss: 0.4572 - accuracy: 0.9504\nDNN test 20 - Loss: 0.4571535378414763, Accuracy: 0.9503799676895142\n2237/2237 - 0s - loss: 0.2800 - accuracy: 0.9450\nDNN test 21 - Loss: 0.2799518170750296, Accuracy: 0.9450156688690186\n2237/2237 - 0s - loss: 0.2515 - accuracy: 0.9566\nDNN test 22 - Loss: 0.2515313418737788, Accuracy: 0.9566383361816406\n2237/2237 - 0s - loss: 0.2347 - accuracy: 0.9549\nDNN test 23 - Loss: 0.23466368794281353, Accuracy: 0.9548502564430237\n2237/2237 - 0s - loss: 0.3781 - accuracy: 0.9473\nDNN test 24 - Loss: 0.3780662258541579, Accuracy: 0.9472507834434509\n2237/2237 - 0s - loss: 0.2268 - accuracy: 0.9589\nDNN test 25 - Loss: 0.22678059247390242, Accuracy: 0.9588735103607178\n"
    }
   ],
   "source": [
    "#Test model on various samples\n",
    "for i in range(1, 26):\n",
    "    X_train, X_test, y_train, y_test = train_test_split(data, encoded_target, random_state=i)\n",
    "    y_test_categorical = to_categorical(y_test)\n",
    "    X_test_scaled = X_scaler.transform(X_test)\n",
    "    model_loss, model_accuracy = model.evaluate(\n",
    "    X_test_scaled, y_test_categorical, verbose=2)\n",
    "    print(f\"DNN test {i} - Loss: {model_loss}, Accuracy: {model_accuracy}\")"
   ]
  },
  {
   "cell_type": "code",
   "execution_count": 12,
   "metadata": {},
   "outputs": [],
   "source": [
    "#Save model\n",
    "model.save('DNN.h5')"
   ]
  },
  {
   "cell_type": "code",
   "execution_count": null,
   "metadata": {},
   "outputs": [],
   "source": []
  }
 ],
 "metadata": {
  "language_info": {
   "codemirror_mode": {
    "name": "ipython",
    "version": 3
   },
   "file_extension": ".py",
   "mimetype": "text/x-python",
   "name": "python",
   "nbconvert_exporter": "python",
   "pygments_lexer": "ipython3",
   "version": "3.6.10-final"
  },
  "orig_nbformat": 2,
  "kernelspec": {
   "name": "python361064bitpythonadvcondac2c33c2d3a23484da0c43e5a7194df3a",
   "display_name": "Python 3.6.10 64-bit ('PythonAdv': conda)"
  }
 },
 "nbformat": 4,
 "nbformat_minor": 2
}