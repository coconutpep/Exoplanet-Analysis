{
 "cells": [
  {
   "cell_type": "code",
   "execution_count": 1,
   "metadata": {},
   "outputs": [],
   "source": [
    "#Import dependencies\n",
    "import pandas as pd"
   ]
  },
  {
   "cell_type": "code",
   "execution_count": 5,
   "metadata": {},
   "outputs": [
    {
     "output_type": "execute_result",
     "data": {
      "text/plain": "   rowid     kepid kepoi_name   kepler_name koi_disposition koi_pdisposition  \\\n0      1  10797460  K00752.01  Kepler-227 b       CONFIRMED        CANDIDATE   \n1      2  10797460  K00752.02  Kepler-227 c       CONFIRMED        CANDIDATE   \n2      3  10811496  K00753.01           NaN  FALSE POSITIVE   FALSE POSITIVE   \n3      4  10848459  K00754.01           NaN  FALSE POSITIVE   FALSE POSITIVE   \n4      5  10854555  K00755.01  Kepler-664 b       CONFIRMED        CANDIDATE   \n\n   koi_score  koi_fpflag_nt  koi_fpflag_ss  koi_fpflag_co  ...  \\\n0      1.000              0              0              0  ...   \n1      0.969              0              0              0  ...   \n2      0.000              0              1              0  ...   \n3      0.000              0              1              0  ...   \n4      1.000              0              0              0  ...   \n\n   koi_steff_err2  koi_slogg  koi_slogg_err1  koi_slogg_err2  koi_srad  \\\n0           -81.0      4.467           0.064          -0.096     0.927   \n1           -81.0      4.467           0.064          -0.096     0.927   \n2          -176.0      4.544           0.044          -0.176     0.868   \n3          -174.0      4.564           0.053          -0.168     0.791   \n4          -211.0      4.438           0.070          -0.210     1.046   \n\n   koi_srad_err1  koi_srad_err2         ra        dec  koi_kepmag  \n0          0.105         -0.061  291.93423  48.141651      15.347  \n1          0.105         -0.061  291.93423  48.141651      15.347  \n2          0.233         -0.078  297.00482  48.134129      15.436  \n3          0.201         -0.067  285.53461  48.285210      15.597  \n4          0.334         -0.133  288.75488  48.226200      15.509  \n\n[5 rows x 50 columns]",
      "text/html": "<div>\n<style scoped>\n    .dataframe tbody tr th:only-of-type {\n        vertical-align: middle;\n    }\n\n    .dataframe tbody tr th {\n        vertical-align: top;\n    }\n\n    .dataframe thead th {\n        text-align: right;\n    }\n</style>\n<table border=\"1\" class=\"dataframe\">\n  <thead>\n    <tr style=\"text-align: right;\">\n      <th></th>\n      <th>rowid</th>\n      <th>kepid</th>\n      <th>kepoi_name</th>\n      <th>kepler_name</th>\n      <th>koi_disposition</th>\n      <th>koi_pdisposition</th>\n      <th>koi_score</th>\n      <th>koi_fpflag_nt</th>\n      <th>koi_fpflag_ss</th>\n      <th>koi_fpflag_co</th>\n      <th>...</th>\n      <th>koi_steff_err2</th>\n      <th>koi_slogg</th>\n      <th>koi_slogg_err1</th>\n      <th>koi_slogg_err2</th>\n      <th>koi_srad</th>\n      <th>koi_srad_err1</th>\n      <th>koi_srad_err2</th>\n      <th>ra</th>\n      <th>dec</th>\n      <th>koi_kepmag</th>\n    </tr>\n  </thead>\n  <tbody>\n    <tr>\n      <th>0</th>\n      <td>1</td>\n      <td>10797460</td>\n      <td>K00752.01</td>\n      <td>Kepler-227 b</td>\n      <td>CONFIRMED</td>\n      <td>CANDIDATE</td>\n      <td>1.000</td>\n      <td>0</td>\n      <td>0</td>\n      <td>0</td>\n      <td>...</td>\n      <td>-81.0</td>\n      <td>4.467</td>\n      <td>0.064</td>\n      <td>-0.096</td>\n      <td>0.927</td>\n      <td>0.105</td>\n      <td>-0.061</td>\n      <td>291.93423</td>\n      <td>48.141651</td>\n      <td>15.347</td>\n    </tr>\n    <tr>\n      <th>1</th>\n      <td>2</td>\n      <td>10797460</td>\n      <td>K00752.02</td>\n      <td>Kepler-227 c</td>\n      <td>CONFIRMED</td>\n      <td>CANDIDATE</td>\n      <td>0.969</td>\n      <td>0</td>\n      <td>0</td>\n      <td>0</td>\n      <td>...</td>\n      <td>-81.0</td>\n      <td>4.467</td>\n      <td>0.064</td>\n      <td>-0.096</td>\n      <td>0.927</td>\n      <td>0.105</td>\n      <td>-0.061</td>\n      <td>291.93423</td>\n      <td>48.141651</td>\n      <td>15.347</td>\n    </tr>\n    <tr>\n      <th>2</th>\n      <td>3</td>\n      <td>10811496</td>\n      <td>K00753.01</td>\n      <td>NaN</td>\n      <td>FALSE POSITIVE</td>\n      <td>FALSE POSITIVE</td>\n      <td>0.000</td>\n      <td>0</td>\n      <td>1</td>\n      <td>0</td>\n      <td>...</td>\n      <td>-176.0</td>\n      <td>4.544</td>\n      <td>0.044</td>\n      <td>-0.176</td>\n      <td>0.868</td>\n      <td>0.233</td>\n      <td>-0.078</td>\n      <td>297.00482</td>\n      <td>48.134129</td>\n      <td>15.436</td>\n    </tr>\n    <tr>\n      <th>3</th>\n      <td>4</td>\n      <td>10848459</td>\n      <td>K00754.01</td>\n      <td>NaN</td>\n      <td>FALSE POSITIVE</td>\n      <td>FALSE POSITIVE</td>\n      <td>0.000</td>\n      <td>0</td>\n      <td>1</td>\n      <td>0</td>\n      <td>...</td>\n      <td>-174.0</td>\n      <td>4.564</td>\n      <td>0.053</td>\n      <td>-0.168</td>\n      <td>0.791</td>\n      <td>0.201</td>\n      <td>-0.067</td>\n      <td>285.53461</td>\n      <td>48.285210</td>\n      <td>15.597</td>\n    </tr>\n    <tr>\n      <th>4</th>\n      <td>5</td>\n      <td>10854555</td>\n      <td>K00755.01</td>\n      <td>Kepler-664 b</td>\n      <td>CONFIRMED</td>\n      <td>CANDIDATE</td>\n      <td>1.000</td>\n      <td>0</td>\n      <td>0</td>\n      <td>0</td>\n      <td>...</td>\n      <td>-211.0</td>\n      <td>4.438</td>\n      <td>0.070</td>\n      <td>-0.210</td>\n      <td>1.046</td>\n      <td>0.334</td>\n      <td>-0.133</td>\n      <td>288.75488</td>\n      <td>48.226200</td>\n      <td>15.509</td>\n    </tr>\n  </tbody>\n</table>\n<p>5 rows × 50 columns</p>\n</div>"
     },
     "metadata": {},
     "execution_count": 5
    }
   ],
   "source": [
    "#Read in data\n",
    "data = pd.read_csv('cumulative.csv')\n",
    "data.head()"
   ]
  },
  {
   "cell_type": "code",
   "execution_count": 6,
   "metadata": {},
   "outputs": [
    {
     "output_type": "execute_result",
     "data": {
      "text/plain": "Index(['rowid', 'kepid', 'kepoi_name', 'kepler_name', 'koi_disposition',\n       'koi_pdisposition', 'koi_score', 'koi_fpflag_nt', 'koi_fpflag_ss',\n       'koi_fpflag_co', 'koi_fpflag_ec', 'koi_period', 'koi_period_err1',\n       'koi_period_err2', 'koi_time0bk', 'koi_time0bk_err1',\n       'koi_time0bk_err2', 'koi_impact', 'koi_impact_err1', 'koi_impact_err2',\n       'koi_duration', 'koi_duration_err1', 'koi_duration_err2', 'koi_depth',\n       'koi_depth_err1', 'koi_depth_err2', 'koi_prad', 'koi_prad_err1',\n       'koi_prad_err2', 'koi_teq', 'koi_teq_err1', 'koi_teq_err2', 'koi_insol',\n       'koi_insol_err1', 'koi_insol_err2', 'koi_model_snr', 'koi_tce_plnt_num',\n       'koi_tce_delivname', 'koi_steff', 'koi_steff_err1', 'koi_steff_err2',\n       'koi_slogg', 'koi_slogg_err1', 'koi_slogg_err2', 'koi_srad',\n       'koi_srad_err1', 'koi_srad_err2', 'ra', 'dec', 'koi_kepmag'],\n      dtype='object')"
     },
     "metadata": {},
     "execution_count": 6
    }
   ],
   "source": [
    "#List out variables\n",
    "data.columns"
   ]
  },
  {
   "cell_type": "code",
   "execution_count": 7,
   "metadata": {},
   "outputs": [
    {
     "output_type": "execute_result",
     "data": {
      "text/plain": "  koi_disposition  koi_fpflag_nt  koi_fpflag_ss  koi_fpflag_co  koi_fpflag_ec  \\\n0       CONFIRMED              0              0              0              0   \n1       CONFIRMED              0              0              0              0   \n2  FALSE POSITIVE              0              1              0              0   \n3  FALSE POSITIVE              0              1              0              0   \n4       CONFIRMED              0              0              0              0   \n\n   koi_period  koi_time0bk  koi_impact  koi_duration  koi_depth  ...  \\\n0    9.488036   170.538750       0.146       2.95750      615.8  ...   \n1   54.418383   162.513840       0.586       4.50700      874.8  ...   \n2   19.899140   175.850252       0.969       1.78220    10829.0  ...   \n3    1.736952   170.307565       1.276       2.40641     8079.2  ...   \n4    2.525592   171.595550       0.701       1.65450      603.3  ...   \n\n   koi_insol  koi_model_snr  koi_tce_plnt_num  koi_tce_delivname  koi_steff  \\\n0      93.59           35.8               1.0    q1_q17_dr25_tce     5455.0   \n1       9.11           25.8               2.0    q1_q17_dr25_tce     5455.0   \n2      39.30           76.3               1.0    q1_q17_dr25_tce     5853.0   \n3     891.96          505.6               1.0    q1_q17_dr25_tce     5805.0   \n4     926.16           40.9               1.0    q1_q17_dr25_tce     6031.0   \n\n  koi_slogg  koi_srad         ra        dec  koi_kepmag  \n0     4.467     0.927  291.93423  48.141651      15.347  \n1     4.467     0.927  291.93423  48.141651      15.347  \n2     4.544     0.868  297.00482  48.134129      15.436  \n3     4.564     0.791  285.53461  48.285210      15.597  \n4     4.438     1.046  288.75488  48.226200      15.509  \n\n[5 rows x 22 columns]",
      "text/html": "<div>\n<style scoped>\n    .dataframe tbody tr th:only-of-type {\n        vertical-align: middle;\n    }\n\n    .dataframe tbody tr th {\n        vertical-align: top;\n    }\n\n    .dataframe thead th {\n        text-align: right;\n    }\n</style>\n<table border=\"1\" class=\"dataframe\">\n  <thead>\n    <tr style=\"text-align: right;\">\n      <th></th>\n      <th>koi_disposition</th>\n      <th>koi_fpflag_nt</th>\n      <th>koi_fpflag_ss</th>\n      <th>koi_fpflag_co</th>\n      <th>koi_fpflag_ec</th>\n      <th>koi_period</th>\n      <th>koi_time0bk</th>\n      <th>koi_impact</th>\n      <th>koi_duration</th>\n      <th>koi_depth</th>\n      <th>...</th>\n      <th>koi_insol</th>\n      <th>koi_model_snr</th>\n      <th>koi_tce_plnt_num</th>\n      <th>koi_tce_delivname</th>\n      <th>koi_steff</th>\n      <th>koi_slogg</th>\n      <th>koi_srad</th>\n      <th>ra</th>\n      <th>dec</th>\n      <th>koi_kepmag</th>\n    </tr>\n  </thead>\n  <tbody>\n    <tr>\n      <th>0</th>\n      <td>CONFIRMED</td>\n      <td>0</td>\n      <td>0</td>\n      <td>0</td>\n      <td>0</td>\n      <td>9.488036</td>\n      <td>170.538750</td>\n      <td>0.146</td>\n      <td>2.95750</td>\n      <td>615.8</td>\n      <td>...</td>\n      <td>93.59</td>\n      <td>35.8</td>\n      <td>1.0</td>\n      <td>q1_q17_dr25_tce</td>\n      <td>5455.0</td>\n      <td>4.467</td>\n      <td>0.927</td>\n      <td>291.93423</td>\n      <td>48.141651</td>\n      <td>15.347</td>\n    </tr>\n    <tr>\n      <th>1</th>\n      <td>CONFIRMED</td>\n      <td>0</td>\n      <td>0</td>\n      <td>0</td>\n      <td>0</td>\n      <td>54.418383</td>\n      <td>162.513840</td>\n      <td>0.586</td>\n      <td>4.50700</td>\n      <td>874.8</td>\n      <td>...</td>\n      <td>9.11</td>\n      <td>25.8</td>\n      <td>2.0</td>\n      <td>q1_q17_dr25_tce</td>\n      <td>5455.0</td>\n      <td>4.467</td>\n      <td>0.927</td>\n      <td>291.93423</td>\n      <td>48.141651</td>\n      <td>15.347</td>\n    </tr>\n    <tr>\n      <th>2</th>\n      <td>FALSE POSITIVE</td>\n      <td>0</td>\n      <td>1</td>\n      <td>0</td>\n      <td>0</td>\n      <td>19.899140</td>\n      <td>175.850252</td>\n      <td>0.969</td>\n      <td>1.78220</td>\n      <td>10829.0</td>\n      <td>...</td>\n      <td>39.30</td>\n      <td>76.3</td>\n      <td>1.0</td>\n      <td>q1_q17_dr25_tce</td>\n      <td>5853.0</td>\n      <td>4.544</td>\n      <td>0.868</td>\n      <td>297.00482</td>\n      <td>48.134129</td>\n      <td>15.436</td>\n    </tr>\n    <tr>\n      <th>3</th>\n      <td>FALSE POSITIVE</td>\n      <td>0</td>\n      <td>1</td>\n      <td>0</td>\n      <td>0</td>\n      <td>1.736952</td>\n      <td>170.307565</td>\n      <td>1.276</td>\n      <td>2.40641</td>\n      <td>8079.2</td>\n      <td>...</td>\n      <td>891.96</td>\n      <td>505.6</td>\n      <td>1.0</td>\n      <td>q1_q17_dr25_tce</td>\n      <td>5805.0</td>\n      <td>4.564</td>\n      <td>0.791</td>\n      <td>285.53461</td>\n      <td>48.285210</td>\n      <td>15.597</td>\n    </tr>\n    <tr>\n      <th>4</th>\n      <td>CONFIRMED</td>\n      <td>0</td>\n      <td>0</td>\n      <td>0</td>\n      <td>0</td>\n      <td>2.525592</td>\n      <td>171.595550</td>\n      <td>0.701</td>\n      <td>1.65450</td>\n      <td>603.3</td>\n      <td>...</td>\n      <td>926.16</td>\n      <td>40.9</td>\n      <td>1.0</td>\n      <td>q1_q17_dr25_tce</td>\n      <td>6031.0</td>\n      <td>4.438</td>\n      <td>1.046</td>\n      <td>288.75488</td>\n      <td>48.226200</td>\n      <td>15.509</td>\n    </tr>\n  </tbody>\n</table>\n<p>5 rows × 22 columns</p>\n</div>"
     },
     "metadata": {},
     "execution_count": 7
    }
   ],
   "source": [
    "#Remove unwanted variables\n",
    "data.drop(['rowid', 'kepid', 'kepoi_name', 'kepler_name', 'koi_pdisposition', 'koi_score', 'koi_period_err1', 'koi_period_err2', 'koi_time0bk_err1', 'koi_time0bk_err2', 'koi_impact_err1', 'koi_impact_err2', 'koi_depth_err1', 'koi_depth_err2', 'koi_prad_err1', 'koi_prad_err2', 'koi_teq_err1', 'koi_teq_err2', 'koi_insol_err1', 'koi_insol_err2', 'koi_steff_err1', 'koi_steff_err2', 'koi_slogg_err1', 'koi_slogg_err2', 'koi_srad_err1', 'koi_srad_err2', 'koi_duration_err1', 'koi_duration_err2'], axis=1, inplace=True)\n",
    "data.head()"
   ]
  },
  {
   "cell_type": "code",
   "execution_count": 8,
   "metadata": {},
   "outputs": [],
   "source": [
    "#Write cleaned df to new csv\n",
    "data.to_csv('clean_data.csv')"
   ]
  },
  {
   "cell_type": "code",
   "execution_count": null,
   "metadata": {},
   "outputs": [],
   "source": []
  }
 ],
 "metadata": {
  "language_info": {
   "codemirror_mode": {
    "name": "ipython",
    "version": 3
   },
   "file_extension": ".py",
   "mimetype": "text/x-python",
   "name": "python",
   "nbconvert_exporter": "python",
   "pygments_lexer": "ipython3",
   "version": "3.6.10-final"
  },
  "orig_nbformat": 2,
  "kernelspec": {
   "name": "python361064bitpythonadvcondac2c33c2d3a23484da0c43e5a7194df3a",
   "display_name": "Python 3.6.10 64-bit ('PythonAdv': conda)"
  }
 },
 "nbformat": 4,
 "nbformat_minor": 2
}