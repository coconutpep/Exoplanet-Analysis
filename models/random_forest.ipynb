{
 "cells": [
  {
   "cell_type": "code",
   "execution_count": 8,
   "metadata": {},
   "outputs": [],
   "source": [
    "#Import Dependencies\n",
    "import pandas as pd\n",
    "from sklearn.ensemble import RandomForestClassifier\n",
    "from sklearn.model_selection import train_test_split\n",
    "from sklearn.ensemble import RandomForestClassifier"
   ]
  },
  {
   "cell_type": "code",
   "execution_count": 9,
   "metadata": {},
   "outputs": [
    {
     "output_type": "execute_result",
     "data": {
      "text/plain": "  koi_disposition  koi_fpflag_nt  koi_fpflag_ss  koi_fpflag_co  koi_fpflag_ec  \\\n0       CONFIRMED              0              0              0              0   \n1       CONFIRMED              0              0              0              0   \n2  FALSE POSITIVE              0              1              0              0   \n3  FALSE POSITIVE              0              1              0              0   \n4       CONFIRMED              0              0              0              0   \n\n   koi_period  koi_time0bk  koi_impact  koi_duration  koi_depth  ...  koi_teq  \\\n0    9.488036   170.538750       0.146       2.95750      615.8  ...    793.0   \n1   54.418383   162.513840       0.586       4.50700      874.8  ...    443.0   \n2   19.899140   175.850252       0.969       1.78220    10829.0  ...    638.0   \n3    1.736952   170.307565       1.276       2.40641     8079.2  ...   1395.0   \n4    2.525592   171.595550       0.701       1.65450      603.3  ...   1406.0   \n\n   koi_insol  koi_model_snr  koi_tce_plnt_num  koi_steff  koi_slogg  koi_srad  \\\n0      93.59           35.8               1.0     5455.0      4.467     0.927   \n1       9.11           25.8               2.0     5455.0      4.467     0.927   \n2      39.30           76.3               1.0     5853.0      4.544     0.868   \n3     891.96          505.6               1.0     5805.0      4.564     0.791   \n4     926.16           40.9               1.0     6031.0      4.438     1.046   \n\n          ra        dec  koi_kepmag  \n0  291.93423  48.141651      15.347  \n1  291.93423  48.141651      15.347  \n2  297.00482  48.134129      15.436  \n3  285.53461  48.285210      15.597  \n4  288.75488  48.226200      15.509  \n\n[5 rows x 21 columns]",
      "text/html": "<div>\n<style scoped>\n    .dataframe tbody tr th:only-of-type {\n        vertical-align: middle;\n    }\n\n    .dataframe tbody tr th {\n        vertical-align: top;\n    }\n\n    .dataframe thead th {\n        text-align: right;\n    }\n</style>\n<table border=\"1\" class=\"dataframe\">\n  <thead>\n    <tr style=\"text-align: right;\">\n      <th></th>\n      <th>koi_disposition</th>\n      <th>koi_fpflag_nt</th>\n      <th>koi_fpflag_ss</th>\n      <th>koi_fpflag_co</th>\n      <th>koi_fpflag_ec</th>\n      <th>koi_period</th>\n      <th>koi_time0bk</th>\n      <th>koi_impact</th>\n      <th>koi_duration</th>\n      <th>koi_depth</th>\n      <th>...</th>\n      <th>koi_teq</th>\n      <th>koi_insol</th>\n      <th>koi_model_snr</th>\n      <th>koi_tce_plnt_num</th>\n      <th>koi_steff</th>\n      <th>koi_slogg</th>\n      <th>koi_srad</th>\n      <th>ra</th>\n      <th>dec</th>\n      <th>koi_kepmag</th>\n    </tr>\n  </thead>\n  <tbody>\n    <tr>\n      <th>0</th>\n      <td>CONFIRMED</td>\n      <td>0</td>\n      <td>0</td>\n      <td>0</td>\n      <td>0</td>\n      <td>9.488036</td>\n      <td>170.538750</td>\n      <td>0.146</td>\n      <td>2.95750</td>\n      <td>615.8</td>\n      <td>...</td>\n      <td>793.0</td>\n      <td>93.59</td>\n      <td>35.8</td>\n      <td>1.0</td>\n      <td>5455.0</td>\n      <td>4.467</td>\n      <td>0.927</td>\n      <td>291.93423</td>\n      <td>48.141651</td>\n      <td>15.347</td>\n    </tr>\n    <tr>\n      <th>1</th>\n      <td>CONFIRMED</td>\n      <td>0</td>\n      <td>0</td>\n      <td>0</td>\n      <td>0</td>\n      <td>54.418383</td>\n      <td>162.513840</td>\n      <td>0.586</td>\n      <td>4.50700</td>\n      <td>874.8</td>\n      <td>...</td>\n      <td>443.0</td>\n      <td>9.11</td>\n      <td>25.8</td>\n      <td>2.0</td>\n      <td>5455.0</td>\n      <td>4.467</td>\n      <td>0.927</td>\n      <td>291.93423</td>\n      <td>48.141651</td>\n      <td>15.347</td>\n    </tr>\n    <tr>\n      <th>2</th>\n      <td>FALSE POSITIVE</td>\n      <td>0</td>\n      <td>1</td>\n      <td>0</td>\n      <td>0</td>\n      <td>19.899140</td>\n      <td>175.850252</td>\n      <td>0.969</td>\n      <td>1.78220</td>\n      <td>10829.0</td>\n      <td>...</td>\n      <td>638.0</td>\n      <td>39.30</td>\n      <td>76.3</td>\n      <td>1.0</td>\n      <td>5853.0</td>\n      <td>4.544</td>\n      <td>0.868</td>\n      <td>297.00482</td>\n      <td>48.134129</td>\n      <td>15.436</td>\n    </tr>\n    <tr>\n      <th>3</th>\n      <td>FALSE POSITIVE</td>\n      <td>0</td>\n      <td>1</td>\n      <td>0</td>\n      <td>0</td>\n      <td>1.736952</td>\n      <td>170.307565</td>\n      <td>1.276</td>\n      <td>2.40641</td>\n      <td>8079.2</td>\n      <td>...</td>\n      <td>1395.0</td>\n      <td>891.96</td>\n      <td>505.6</td>\n      <td>1.0</td>\n      <td>5805.0</td>\n      <td>4.564</td>\n      <td>0.791</td>\n      <td>285.53461</td>\n      <td>48.285210</td>\n      <td>15.597</td>\n    </tr>\n    <tr>\n      <th>4</th>\n      <td>CONFIRMED</td>\n      <td>0</td>\n      <td>0</td>\n      <td>0</td>\n      <td>0</td>\n      <td>2.525592</td>\n      <td>171.595550</td>\n      <td>0.701</td>\n      <td>1.65450</td>\n      <td>603.3</td>\n      <td>...</td>\n      <td>1406.0</td>\n      <td>926.16</td>\n      <td>40.9</td>\n      <td>1.0</td>\n      <td>6031.0</td>\n      <td>4.438</td>\n      <td>1.046</td>\n      <td>288.75488</td>\n      <td>48.226200</td>\n      <td>15.509</td>\n    </tr>\n  </tbody>\n</table>\n<p>5 rows × 21 columns</p>\n</div>"
     },
     "metadata": {},
     "execution_count": 9
    }
   ],
   "source": [
    "#Read in data\n",
    "exo = pd.read_csv('../data/clean_data.csv')\n",
    "#Drop vestial index\n",
    "exo.drop('Unnamed: 0', axis=1, inplace=True)\n",
    "exo.head()"
   ]
  },
  {
   "cell_type": "code",
   "execution_count": 10,
   "metadata": {},
   "outputs": [
    {
     "output_type": "execute_result",
     "data": {
      "text/plain": "   koi_fpflag_nt  koi_fpflag_ss  koi_fpflag_co  koi_fpflag_ec  koi_period  \\\n0              0              0              0              0    9.488036   \n1              0              0              0              0   54.418383   \n2              0              1              0              0   19.899140   \n3              0              1              0              0    1.736952   \n4              0              0              0              0    2.525592   \n\n   koi_time0bk  koi_impact  koi_duration  koi_depth  koi_prad  koi_teq  \\\n0   170.538750       0.146       2.95750      615.8      2.26    793.0   \n1   162.513840       0.586       4.50700      874.8      2.83    443.0   \n2   175.850252       0.969       1.78220    10829.0     14.60    638.0   \n3   170.307565       1.276       2.40641     8079.2     33.46   1395.0   \n4   171.595550       0.701       1.65450      603.3      2.75   1406.0   \n\n   koi_insol  koi_model_snr  koi_tce_plnt_num  koi_steff  koi_slogg  koi_srad  \\\n0      93.59           35.8               1.0     5455.0      4.467     0.927   \n1       9.11           25.8               2.0     5455.0      4.467     0.927   \n2      39.30           76.3               1.0     5853.0      4.544     0.868   \n3     891.96          505.6               1.0     5805.0      4.564     0.791   \n4     926.16           40.9               1.0     6031.0      4.438     1.046   \n\n          ra        dec  koi_kepmag  \n0  291.93423  48.141651      15.347  \n1  291.93423  48.141651      15.347  \n2  297.00482  48.134129      15.436  \n3  285.53461  48.285210      15.597  \n4  288.75488  48.226200      15.509  ",
      "text/html": "<div>\n<style scoped>\n    .dataframe tbody tr th:only-of-type {\n        vertical-align: middle;\n    }\n\n    .dataframe tbody tr th {\n        vertical-align: top;\n    }\n\n    .dataframe thead th {\n        text-align: right;\n    }\n</style>\n<table border=\"1\" class=\"dataframe\">\n  <thead>\n    <tr style=\"text-align: right;\">\n      <th></th>\n      <th>koi_fpflag_nt</th>\n      <th>koi_fpflag_ss</th>\n      <th>koi_fpflag_co</th>\n      <th>koi_fpflag_ec</th>\n      <th>koi_period</th>\n      <th>koi_time0bk</th>\n      <th>koi_impact</th>\n      <th>koi_duration</th>\n      <th>koi_depth</th>\n      <th>koi_prad</th>\n      <th>koi_teq</th>\n      <th>koi_insol</th>\n      <th>koi_model_snr</th>\n      <th>koi_tce_plnt_num</th>\n      <th>koi_steff</th>\n      <th>koi_slogg</th>\n      <th>koi_srad</th>\n      <th>ra</th>\n      <th>dec</th>\n      <th>koi_kepmag</th>\n    </tr>\n  </thead>\n  <tbody>\n    <tr>\n      <th>0</th>\n      <td>0</td>\n      <td>0</td>\n      <td>0</td>\n      <td>0</td>\n      <td>9.488036</td>\n      <td>170.538750</td>\n      <td>0.146</td>\n      <td>2.95750</td>\n      <td>615.8</td>\n      <td>2.26</td>\n      <td>793.0</td>\n      <td>93.59</td>\n      <td>35.8</td>\n      <td>1.0</td>\n      <td>5455.0</td>\n      <td>4.467</td>\n      <td>0.927</td>\n      <td>291.93423</td>\n      <td>48.141651</td>\n      <td>15.347</td>\n    </tr>\n    <tr>\n      <th>1</th>\n      <td>0</td>\n      <td>0</td>\n      <td>0</td>\n      <td>0</td>\n      <td>54.418383</td>\n      <td>162.513840</td>\n      <td>0.586</td>\n      <td>4.50700</td>\n      <td>874.8</td>\n      <td>2.83</td>\n      <td>443.0</td>\n      <td>9.11</td>\n      <td>25.8</td>\n      <td>2.0</td>\n      <td>5455.0</td>\n      <td>4.467</td>\n      <td>0.927</td>\n      <td>291.93423</td>\n      <td>48.141651</td>\n      <td>15.347</td>\n    </tr>\n    <tr>\n      <th>2</th>\n      <td>0</td>\n      <td>1</td>\n      <td>0</td>\n      <td>0</td>\n      <td>19.899140</td>\n      <td>175.850252</td>\n      <td>0.969</td>\n      <td>1.78220</td>\n      <td>10829.0</td>\n      <td>14.60</td>\n      <td>638.0</td>\n      <td>39.30</td>\n      <td>76.3</td>\n      <td>1.0</td>\n      <td>5853.0</td>\n      <td>4.544</td>\n      <td>0.868</td>\n      <td>297.00482</td>\n      <td>48.134129</td>\n      <td>15.436</td>\n    </tr>\n    <tr>\n      <th>3</th>\n      <td>0</td>\n      <td>1</td>\n      <td>0</td>\n      <td>0</td>\n      <td>1.736952</td>\n      <td>170.307565</td>\n      <td>1.276</td>\n      <td>2.40641</td>\n      <td>8079.2</td>\n      <td>33.46</td>\n      <td>1395.0</td>\n      <td>891.96</td>\n      <td>505.6</td>\n      <td>1.0</td>\n      <td>5805.0</td>\n      <td>4.564</td>\n      <td>0.791</td>\n      <td>285.53461</td>\n      <td>48.285210</td>\n      <td>15.597</td>\n    </tr>\n    <tr>\n      <th>4</th>\n      <td>0</td>\n      <td>0</td>\n      <td>0</td>\n      <td>0</td>\n      <td>2.525592</td>\n      <td>171.595550</td>\n      <td>0.701</td>\n      <td>1.65450</td>\n      <td>603.3</td>\n      <td>2.75</td>\n      <td>1406.0</td>\n      <td>926.16</td>\n      <td>40.9</td>\n      <td>1.0</td>\n      <td>6031.0</td>\n      <td>4.438</td>\n      <td>1.046</td>\n      <td>288.75488</td>\n      <td>48.226200</td>\n      <td>15.509</td>\n    </tr>\n  </tbody>\n</table>\n</div>"
     },
     "metadata": {},
     "execution_count": 10
    }
   ],
   "source": [
    "#Set data and target\n",
    "data = exo.drop(\"koi_disposition\", axis=1)\n",
    "feature_names = data.columns\n",
    "target = exo['koi_disposition'].values.reshape(-1,1)\n",
    "target_names = ['CONFIRMED', 'FALSE POSITIVE', 'CANIDATE']\n",
    "data.head()"
   ]
  },
  {
   "cell_type": "code",
   "execution_count": 11,
   "metadata": {},
   "outputs": [],
   "source": [
    "#Split data into training and testing sets\n",
    "X_train, X_test, y_train, y_test = train_test_split(data, target, random_state=1)"
   ]
  },
  {
   "cell_type": "code",
   "execution_count": 12,
   "metadata": {},
   "outputs": [
    {
     "output_type": "execute_result",
     "data": {
      "text/plain": "0.8980777827447475"
     },
     "metadata": {},
     "execution_count": 12
    }
   ],
   "source": [
    "# Create a random forest classifier\n",
    "rf = RandomForestClassifier(n_estimators=1000)\n",
    "rf = rf.fit(X_train, y_train)\n",
    "rf.score(X_test, y_test)"
   ]
  },
  {
   "cell_type": "code",
   "execution_count": 13,
   "metadata": {
    "tags": []
   },
   "outputs": [
    {
     "output_type": "stream",
     "name": "stdout",
     "text": "Random State 1: Score =  0.8976307554760841\nRandom State 2: Score =  0.8904783191774698\nRandom State 3: Score =  0.8976307554760841\nRandom State 4: Score =  0.9092534644613322\nRandom State 5: Score =  0.907912382655342\nRandom State 6: Score =  0.8962896736700938\nRandom State 7: Score =  0.9065713008493518\nRandom State 8: Score =  0.9137237371479661\nRandom State 9: Score =  0.9038891372373715\nRandom State 10: Score =  0.9083594099240053\nRandom State 11: Score =  0.9101475189986589\nRandom State 12: Score =  0.902101028162718\nRandom State 13: Score =  0.9070183281180152\nRandom State 14: Score =  0.8953956191327671\nRandom State 15: Score =  0.8958426464014305\nRandom State 16: Score =  0.89181940098346\nRandom State 17: Score =  0.902101028162718\nRandom State 18: Score =  0.9003129190880643\nRandom State 19: Score =  0.9047831917746982\nRandom State 20: Score =  0.9047831917746982\nRandom State 21: Score =  0.9029950827000447\nRandom State 22: Score =  0.899865891819401\nRandom State 23: Score =  0.8976307554760841\nRandom State 24: Score =  0.8927134555207867\nRandom State 25: Score =  0.9034421099687081\n"
    }
   ],
   "source": [
    "for i in range(1,26):\n",
    "    X_train, X_test, y_train, y_test = train_test_split(data, target, random_state=i)\n",
    "    rf = RandomForestClassifier(n_estimators=1000)\n",
    "    rf = rf.fit(X_train, y_train)\n",
    "    print(f'Random State {i}: Score = ', rf.score(X_test, y_test))"
   ]
  },
  {
   "cell_type": "code",
   "execution_count": null,
   "metadata": {},
   "outputs": [],
   "source": []
  }
 ],
 "metadata": {
  "language_info": {
   "codemirror_mode": {
    "name": "ipython",
    "version": 3
   },
   "file_extension": ".py",
   "mimetype": "text/x-python",
   "name": "python",
   "nbconvert_exporter": "python",
   "pygments_lexer": "ipython3",
   "version": "3.6.10-final"
  },
  "orig_nbformat": 2,
  "kernelspec": {
   "name": "python361064bitpythonadvcondac2c33c2d3a23484da0c43e5a7194df3a",
   "display_name": "Python 3.6.10 64-bit ('PythonAdv': conda)"
  }
 },
 "nbformat": 4,
 "nbformat_minor": 2
}